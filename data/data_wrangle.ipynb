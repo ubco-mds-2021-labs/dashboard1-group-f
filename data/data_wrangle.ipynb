{
 "cells": [
  {
   "cell_type": "code",
   "execution_count": 1,
   "metadata": {},
   "outputs": [],
   "source": [
    "import pandas as pd"
   ]
  },
  {
   "cell_type": "code",
   "execution_count": 2,
   "metadata": {},
   "outputs": [],
   "source": [
    "\n",
    "\n",
    "df1 = pd.read_excel('./2009_2021-quarterly-surgical_wait_times.xlsx')\n",
    "df2 = pd.read_excel('./2021_2022-quarterly-surgical_wait_times-q3-interim.xlsx')\n",
    "df = df1.append(pd.DataFrame(data = df2), ignore_index=True)\n",
    "\n",
    "# Cleaned column names\n",
    "df.columns=[i.lower() for i in (df.columns.values.tolist())]\n",
    "df = df.rename(columns={'fiscal_year': 'year', \n",
    "                        'hospital_name': 'hospital',\n",
    "                       'procedure_group': 'procedure',\n",
    "                       'completed_50th_percentile': 'wait_time_50', \n",
    "                       'completed_90th_percentile': 'wait_time_90'})\n",
    "#convert <5 string to median value of 3\n",
    "df = df.replace(['<5'],3)\n",
    "# correct datatypes of columns, simplify fiscal year to year at start of first quarter\n",
    "df.year = df.year.str.replace('(/).*', \"\", regex=True)\n",
    "# drop rows with NA's\n",
    "df = df.dropna()\n",
    "\n"
   ]
  },
  {
   "cell_type": "code",
   "execution_count": 5,
   "metadata": {},
   "outputs": [],
   "source": [
    "df.to_csv('data.csv', index=False)"
   ]
  },
  {
   "cell_type": "code",
   "execution_count": 2,
   "metadata": {},
   "outputs": [],
   "source": [
    "df = pd.read_csv('data.csv')"
   ]
  },
  {
   "cell_type": "code",
   "execution_count": 4,
   "metadata": {},
   "outputs": [
    {
     "data": {
      "text/html": [
       "<div>\n",
       "<style scoped>\n",
       "    .dataframe tbody tr th:only-of-type {\n",
       "        vertical-align: middle;\n",
       "    }\n",
       "\n",
       "    .dataframe tbody tr th {\n",
       "        vertical-align: top;\n",
       "    }\n",
       "\n",
       "    .dataframe thead th {\n",
       "        text-align: right;\n",
       "    }\n",
       "</style>\n",
       "<table border=\"1\" class=\"dataframe\">\n",
       "  <thead>\n",
       "    <tr style=\"text-align: right;\">\n",
       "      <th></th>\n",
       "      <th>year</th>\n",
       "      <th>quarter</th>\n",
       "      <th>health_authority</th>\n",
       "      <th>hospital</th>\n",
       "      <th>procedure</th>\n",
       "      <th>waiting</th>\n",
       "      <th>completed</th>\n",
       "      <th>wait_time_50</th>\n",
       "      <th>wait_time_90</th>\n",
       "    </tr>\n",
       "  </thead>\n",
       "  <tbody>\n",
       "    <tr>\n",
       "      <th>0</th>\n",
       "      <td>2009</td>\n",
       "      <td>Q1</td>\n",
       "      <td>All Health Authorities</td>\n",
       "      <td>All Facilities</td>\n",
       "      <td>Abdominoplasty</td>\n",
       "      <td>65</td>\n",
       "      <td>21</td>\n",
       "      <td>8.1</td>\n",
       "      <td>73.4</td>\n",
       "    </tr>\n",
       "    <tr>\n",
       "      <th>1</th>\n",
       "      <td>2009</td>\n",
       "      <td>Q1</td>\n",
       "      <td>All Health Authorities</td>\n",
       "      <td>All Facilities</td>\n",
       "      <td>All Other Procedures</td>\n",
       "      <td>1561</td>\n",
       "      <td>1865</td>\n",
       "      <td>4.0</td>\n",
       "      <td>15.9</td>\n",
       "    </tr>\n",
       "    <tr>\n",
       "      <th>2</th>\n",
       "      <td>2009</td>\n",
       "      <td>Q1</td>\n",
       "      <td>All Health Authorities</td>\n",
       "      <td>All Facilities</td>\n",
       "      <td>All Procedures</td>\n",
       "      <td>69600</td>\n",
       "      <td>58938</td>\n",
       "      <td>5.0</td>\n",
       "      <td>24.6</td>\n",
       "    </tr>\n",
       "    <tr>\n",
       "      <th>3</th>\n",
       "      <td>2009</td>\n",
       "      <td>Q1</td>\n",
       "      <td>All Health Authorities</td>\n",
       "      <td>All Facilities</td>\n",
       "      <td>Aortic Aneurysm Repair</td>\n",
       "      <td>67</td>\n",
       "      <td>98</td>\n",
       "      <td>4.3</td>\n",
       "      <td>12.4</td>\n",
       "    </tr>\n",
       "    <tr>\n",
       "      <th>4</th>\n",
       "      <td>2009</td>\n",
       "      <td>Q1</td>\n",
       "      <td>All Health Authorities</td>\n",
       "      <td>All Facilities</td>\n",
       "      <td>Appendectomy</td>\n",
       "      <td>11</td>\n",
       "      <td>27</td>\n",
       "      <td>3.9</td>\n",
       "      <td>9.5</td>\n",
       "    </tr>\n",
       "  </tbody>\n",
       "</table>\n",
       "</div>"
      ],
      "text/plain": [
       "   year quarter        health_authority        hospital  \\\n",
       "0  2009      Q1  All Health Authorities  All Facilities   \n",
       "1  2009      Q1  All Health Authorities  All Facilities   \n",
       "2  2009      Q1  All Health Authorities  All Facilities   \n",
       "3  2009      Q1  All Health Authorities  All Facilities   \n",
       "4  2009      Q1  All Health Authorities  All Facilities   \n",
       "\n",
       "                procedure  waiting  completed  wait_time_50  wait_time_90  \n",
       "0          Abdominoplasty       65         21           8.1          73.4  \n",
       "1    All Other Procedures     1561       1865           4.0          15.9  \n",
       "2          All Procedures    69600      58938           5.0          24.6  \n",
       "3  Aortic Aneurysm Repair       67         98           4.3          12.4  \n",
       "4            Appendectomy       11         27           3.9           9.5  "
      ]
     },
     "execution_count": 4,
     "metadata": {},
     "output_type": "execute_result"
    }
   ],
   "source": [
    "df.head()"
   ]
  }
 ],
 "metadata": {
  "interpreter": {
   "hash": "c24eb9ab44bb1c26124a165125814f4fb2bf904aee16d2d3ae2cbe8099074803"
  },
  "kernelspec": {
   "display_name": "Python 3.9.5 ('base')",
   "language": "python",
   "name": "python3"
  },
  "language_info": {
   "codemirror_mode": {
    "name": "ipython",
    "version": 3
   },
   "file_extension": ".py",
   "mimetype": "text/x-python",
   "name": "python",
   "nbconvert_exporter": "python",
   "pygments_lexer": "ipython3",
   "version": "3.9.5"
  },
  "orig_nbformat": 4
 },
 "nbformat": 4,
 "nbformat_minor": 2
}
